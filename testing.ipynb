{
 "cells": [
  {
   "cell_type": "code",
   "execution_count": 1,
   "id": "3eff66a1-e16e-48ca-8e44-7401dcdaa15e",
   "metadata": {},
   "outputs": [],
   "source": [
    "from env.minesweeper_env import MinesweeperEnv\n",
    "from agent.q_learning_agent import QLearningAgent\n",
    "from pprint import pprint\n",
    "import numpy as np"
   ]
  },
  {
   "cell_type": "code",
   "execution_count": 20,
   "id": "50062ec9-ed77-4db9-99f0-f79c53e62dbc",
   "metadata": {},
   "outputs": [],
   "source": [
    "state = np.array([[-1, -1],\n",
    "                  [-1, -1]])\n",
    "\n",
    "next_state = np.array([[1, -1],\n",
    "                       [-1, -1]])\n",
    "\n",
    "action_space = [(0, 0), (0, 1), (1, 0), (1, 1)]"
   ]
  },
  {
   "cell_type": "code",
   "execution_count": 21,
   "id": "4124522a-ac11-4295-866d-c56b228985ca",
   "metadata": {},
   "outputs": [],
   "source": [
    "# 2. Ajanı oluştur\n",
    "agent = QLearningAgent(state_shape=(2, 2), action_space=action_space)"
   ]
  },
  {
   "cell_type": "code",
   "execution_count": null,
   "id": "ca9e0983-004b-4617-873c-783ab50395e3",
   "metadata": {},
   "outputs": [],
   "source": []
  }
 ],
 "metadata": {
  "kernelspec": {
   "display_name": "Python 3 (ipykernel)",
   "language": "python",
   "name": "python3"
  },
  "language_info": {
   "codemirror_mode": {
    "name": "ipython",
    "version": 3
   },
   "file_extension": ".py",
   "mimetype": "text/x-python",
   "name": "python",
   "nbconvert_exporter": "python",
   "pygments_lexer": "ipython3",
   "version": "3.11.13"
  }
 },
 "nbformat": 4,
 "nbformat_minor": 5
}
