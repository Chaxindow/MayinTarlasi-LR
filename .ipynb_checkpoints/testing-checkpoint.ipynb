{
 "cells": [
  {
   "cell_type": "code",
   "execution_count": 1,
   "id": "3eff66a1-e16e-48ca-8e44-7401dcdaa15e",
   "metadata": {},
   "outputs": [],
   "source": [
    "from env.minesweeper_env import MinesweeperEnv\n",
    "from agent.q_learning_agent import QLearningAgent"
   ]
  },
  {
   "cell_type": "code",
   "execution_count": 2,
   "id": "cf09fcb4-ef28-47da-a0f8-d692e2286db7",
   "metadata": {},
   "outputs": [
    {
     "data": {
      "text/plain": [
       "array([[-1,  1],\n",
       "       [ 1,  1]])"
      ]
     },
     "execution_count": 2,
     "metadata": {},
     "output_type": "execute_result"
    }
   ],
   "source": [
    "test = MinesweeperEnv()\n",
    "test.board"
   ]
  },
  {
   "cell_type": "code",
   "execution_count": 13,
   "id": "2ff7020f-253a-48a3-8b9c-912b110c29ca",
   "metadata": {},
   "outputs": [
    {
     "name": "stdout",
     "output_type": "stream",
     "text": [
      "   0 1\n",
      " 0 F 1\n",
      " 1 1 1\n",
      "\n"
     ]
    }
   ],
   "source": [
    "test.render()"
   ]
  },
  {
   "cell_type": "code",
   "execution_count": 12,
   "id": "1e49d000-84df-4666-99d0-357bd76a4997",
   "metadata": {},
   "outputs": [
    {
     "data": {
      "text/plain": [
       "(array([[-1,  1],\n",
       "        [ 1,  1]]),\n",
       " 51,\n",
       " True,\n",
       " {'msg': 'Tebrikler! Oyunu kazandın.'})"
      ]
     },
     "execution_count": 12,
     "metadata": {},
     "output_type": "execute_result"
    }
   ],
   "source": [
    "test.step([1,1])"
   ]
  },
  {
   "cell_type": "code",
   "execution_count": null,
   "id": "89db4eb8-30d4-4286-8ecd-127aa4dea6d1",
   "metadata": {},
   "outputs": [],
   "source": []
  }
 ],
 "metadata": {
  "kernelspec": {
   "display_name": "Python 3 (ipykernel)",
   "language": "python",
   "name": "python3"
  },
  "language_info": {
   "codemirror_mode": {
    "name": "ipython",
    "version": 3
   },
   "file_extension": ".py",
   "mimetype": "text/x-python",
   "name": "python",
   "nbconvert_exporter": "python",
   "pygments_lexer": "ipython3",
   "version": "3.11.13"
  }
 },
 "nbformat": 4,
 "nbformat_minor": 5
}
